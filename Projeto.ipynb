{
 "cells": [
  {
   "cell_type": "markdown",
   "metadata": {},
   "source": [
    "# **Insper - Eletromagnetismo e Ondulatória** #\n",
    "\n",
    "\n",
    "**Aula 9 - Transformador**\n",
    "\n",
    "**Item 14** - Calculando correntes e tensões em um transformador AC\n",
    "\n"
   ]
  },
  {
   "cell_type": "code",
   "execution_count": 1,
   "metadata": {},
   "outputs": [],
   "source": [
    "#Vamos importar os módulos que precisamos\n",
    "from cmath import *\n",
    "from numpy import linalg\n",
    "import numpy as np"
   ]
  },
  {
   "cell_type": "markdown",
   "metadata": {},
   "source": [
    "---\n",
    "Na célula a seguir:\n",
    "\n",
    "a) Declare os parâmetros de nosso transformador: $R_1=6\\Omega$, $R_2=3\\Omega$, $L_1=300mH$, $L_2=30mH$, frequência $f=60 Hz$ e tensão $V_1=50cos(\\omega t)$.\n",
    "\n",
    "b) Calcule:\n",
    "\n",
    "- Frequência angular $\\omega$\n",
    "- Indutância Mútua $M$\n",
    "- Reatâncias indutivas de $L_1$ e $L_2$, ou seja $XL1$ e $XL2$\n",
    "- Reatância indutiva mútua $XM$\n",
    "\n",
    "Obsrvação: o número complexo $j=\\sqrt{-1}$ é nativo da linguagem Python. Para escrever $j$, digite \"1j\""
   ]
  },
  {
   "cell_type": "code",
   "execution_count": 2,
   "metadata": {},
   "outputs": [],
   "source": [
    "#indutâncias\n",
    "L1=300e-3\n",
    "L2=30e-3\n",
    "#resistências\n",
    "R1=6\n",
    "R2=3\n",
    "#frequência\n",
    "f=60\n",
    "\n",
    "#frequência angular\n",
    "w=2*pi*f\n",
    "#tensão da fonte (pico)\n",
    "Ufonte=50\n",
    "#indutância mútua\n",
    "M=sqrt(L1*L2)\n",
    "#reatâncias do transformador\n",
    "XL1=1j*w*L1\n",
    "XL2=1j*w*L2\n",
    "XM=1j*w*M\n",
    "\n"
   ]
  },
  {
   "cell_type": "markdown",
   "metadata": {},
   "source": [
    "c) Observe a função que criamos na célula abaixo. Tente explicar o que ela faz."
   ]
  },
  {
   "cell_type": "code",
   "execution_count": 3,
   "metadata": {},
   "outputs": [],
   "source": [
    "def CalcularTransformador(Uf, Rc):\n",
    "    Z=np.array([[R1+XL1, -XM],[-XM, XL2+R2+Rc]])\n",
    "    V=np.array([Uf,0])\n",
    "    i=np.dot(linalg.inv(Z),V)\n",
    "    return i[0], i[1]"
   ]
  },
  {
   "cell_type": "markdown",
   "metadata": {},
   "source": [
    "d) Calcule as correntes $i_1$ e $i_2$ para três condições de carga ($R_C=1M\\Omega$, $R_C=100\\Omega$ e $R_C=1\\Omega$). Assim que calcular as correntes, calcule também $V_2$ para cada resistor de carga (analise o circuito para saber como calculá-la). Por fim, calcule as relações $N_1/N_2$, $e_1/e_2$ e $V_1/V_2$ e, o mais importante: calcule as potências no primário ($S1$) e no secundário ($S2$).\n",
    "\n",
    "IMPORTANTE: para dar print nas relações $N_1/N_2$, $V_1/V_2$ e $e_1/e_2$, você precisará usar o **módulo dos fasores**. Para calcular o módulo de um número complexo, use \"np.abs(número complexo)\"."
   ]
  },
  {
   "cell_type": "code",
   "execution_count": 4,
   "metadata": {},
   "outputs": [
    {
     "name": "stdout",
     "output_type": "stream",
     "text": [
      "Com resistor na saída de 1000000.00 Ω:\n",
      "i1 (pico) = 0.44 A\n",
      "i2 (pico) = 0.00 A\n",
      "V1 (pico) = 50.00 V\n",
      "V2 (pico) = 15.79 V\n",
      "Relação N1/N2 = 3.16\n",
      "Relação e1/e2 = 3.16\n",
      "Relação V1/V2 = 3.17\n",
      "S1 = 0.58 +j11.02\n",
      "S2 = 0.00 +j0.00\n",
      "Eficiência = 0.00\n",
      "---\n",
      "Com resistor na saída de 100.00 Ω:\n",
      "i1 (pico) = 0.44 A\n",
      "i2 (pico) = 0.15 A\n",
      "V1 (pico) = 50.00 V\n",
      "V2 (pico) = 15.24 V\n",
      "Relação N1/N2 = 3.16\n",
      "Relação e1/e2 = 3.16\n",
      "Relação V1/V2 = 3.28\n",
      "S1 = 1.78 +j10.89\n",
      "S2 = 1.16 +j-0.00\n",
      "Eficiência = 0.65\n",
      "---\n",
      "Com resistor na saída de 1.00 Ω:\n",
      "i1 (pico) = 1.15 A\n",
      "i2 (pico) = 3.43 A\n",
      "V1 (pico) = 50.00 V\n",
      "V2 (pico) = 3.43 V\n",
      "Relação N1/N2 = 3.16\n",
      "Relação e1/e2 = 3.16\n",
      "Relação V1/V2 = 14.56\n",
      "S1 = 27.56 +j8.34\n",
      "S2 = 5.89 +j0.00\n",
      "Eficiência = 0.21\n",
      "---\n"
     ]
    }
   ],
   "source": [
    "listaRc=[1e6, 100, 1]\n",
    "\n",
    "for Rc in listaRc:\n",
    "    i1, i2 = CalcularTransformador(Ufonte, Rc)\n",
    "    V2=i2*Rc\n",
    "    V1=Ufonte\n",
    "    e1=-XL1*i1+XM*i2\n",
    "    e2=-XM*i1+XL2*i2  \n",
    "    S1=V1/sqrt(2)*i1.conjugate()/sqrt(2)\n",
    "    S2=V2/sqrt(2)*i2.conjugate()/sqrt(2)\n",
    "    print('Com resistor na saída de %.2f Ω:' %Rc)\n",
    "    print('i1 (pico) = %.2f A' %np.abs(i1))\n",
    "    print('i2 (pico) = %.2f A' %np.abs(i2))\n",
    "    print('V1 (pico) = %.2f V' %Ufonte)    \n",
    "    print('V2 (pico) = %.2f V' %(np.abs(V2)))\n",
    "    print('Relação N1/N2 = %.2f' %(np.abs(sqrt(L1/L2))))\n",
    "    print('Relação e1/e2 = %.2f' %(np.abs(e1/e2)))\n",
    "    print('Relação V1/V2 = %.2f' %(np.abs(V1/(V2))))\n",
    "    print('S1 = %.2f +j%.2f' %(S1.real,S1.imag))\n",
    "    print('S2 = %.2f +j%.2f' %(S2.real,S2.imag))\n",
    "    print('Eficiência = %.2f' %(S2.real/S1.real))\n",
    "    print('---')\n"
   ]
  },
  {
   "cell_type": "markdown",
   "metadata": {},
   "source": [
    "e) Recalcule o item **d)**, mas agora considerando que o transformador é **ideal**. Para isso, basta zerar as resistências R1 e R2 do primário e do secundário. Após zer-a-las, copie o código do item d) na célula abaixo. O que você pode concluir sobre a potência real nas três condições de carga?"
   ]
  },
  {
   "cell_type": "code",
   "execution_count": 5,
   "metadata": {},
   "outputs": [
    {
     "name": "stdout",
     "output_type": "stream",
     "text": [
      "Com resistor na saída de 1000000.00 Ω:\n",
      "i1 (pico) = 0.44 A\n",
      "i2 (pico) = 0.00 A\n",
      "V1 (pico) = 50.00 V\n",
      "V2 (pico) = 15.81 V\n",
      "Relação N1/N2 = 3.16\n",
      "Relação e1/e2 = 3.16\n",
      "Relação V1/V2 = 3.16\n",
      "S1 = 0.00 +j11.05\n",
      "S2 = 0.00 +j0.00\n",
      "Eficiência = 1.00\n",
      "---\n",
      "Com resistor na saída de 100.00 Ω:\n",
      "i1 (pico) = 0.44 A\n",
      "i2 (pico) = 0.16 A\n",
      "V1 (pico) = 50.00 V\n",
      "V2 (pico) = 15.81 V\n",
      "Relação N1/N2 = 3.16\n",
      "Relação e1/e2 = 3.16\n",
      "Relação V1/V2 = 3.16\n",
      "S1 = 1.25 +j11.05\n",
      "S2 = 1.25 +j0.00\n",
      "Eficiência = 1.00\n",
      "---\n",
      "Com resistor na saída de 1.00 Ω:\n",
      "i1 (pico) = 5.02 A\n",
      "i2 (pico) = 15.81 A\n",
      "V1 (pico) = 50.00 V\n",
      "V2 (pico) = 15.81 V\n",
      "Relação N1/N2 = 3.16\n",
      "Relação e1/e2 = 3.16\n",
      "Relação V1/V2 = 3.16\n",
      "S1 = 125.00 +j11.05\n",
      "S2 = 125.00 +j0.00\n",
      "Eficiência = 1.00\n",
      "---\n"
     ]
    }
   ],
   "source": [
    "R1=0\n",
    "R2=0\n",
    "\n",
    "listaRc=[1e6, 100, 1]\n",
    "\n",
    "for Rc in listaRc:\n",
    "    i1, i2 = CalcularTransformador(Ufonte, Rc)\n",
    "    V2=i2*Rc\n",
    "    V1=Ufonte\n",
    "    e1=-XL1*i1+XM*i2\n",
    "    e2=-XM*i1+XL2*i2  \n",
    "    S1=V1/sqrt(2)*i1.conjugate()/sqrt(2)\n",
    "    S2=V2/sqrt(2)*i2.conjugate()/sqrt(2)\n",
    "    print('Com resistor na saída de %.2f Ω:' %Rc)\n",
    "    print('i1 (pico) = %.2f A' %np.abs(i1))\n",
    "    print('i2 (pico) = %.2f A' %np.abs(i2))\n",
    "    print('V1 (pico) = %.2f V' %Ufonte)    \n",
    "    print('V2 (pico) = %.2f V' %(np.abs(V2)))\n",
    "    print('Relação N1/N2 = %.2f' %(np.abs(sqrt(L1/L2))))\n",
    "    print('Relação e1/e2 = %.2f' %(np.abs(e1/e2)))\n",
    "    print('Relação V1/V2 = %.2f' %(np.abs(V1/(V2))))\n",
    "    print('S1 = %.2f +j%.2f' %(S1.real,S1.imag))\n",
    "    print('S2 = %.2f +j%.2f' %(S2.real,S2.imag))\n",
    "    print('Eficiência = %.2f' %(S2.real/S1.real))\n",
    "    print('---')\n"
   ]
  },
  {
   "cell_type": "code",
   "execution_count": null,
   "metadata": {},
   "outputs": [],
   "source": []
  },
  {
   "cell_type": "code",
   "execution_count": null,
   "metadata": {},
   "outputs": [],
   "source": []
  },
  {
   "cell_type": "code",
   "execution_count": null,
   "metadata": {},
   "outputs": [],
   "source": []
  }
 ],
 "metadata": {
  "kernelspec": {
   "display_name": "Python 3 (ipykernel)",
   "language": "python",
   "name": "python3"
  },
  "language_info": {
   "codemirror_mode": {
    "name": "ipython",
    "version": 3
   },
   "file_extension": ".py",
   "mimetype": "text/x-python",
   "name": "python",
   "nbconvert_exporter": "python",
   "pygments_lexer": "ipython3",
   "version": "3.8.3"
  }
 },
 "nbformat": 4,
 "nbformat_minor": 2
}
